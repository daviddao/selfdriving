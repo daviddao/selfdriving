{
 "cells": [
  {
   "cell_type": "code",
   "execution_count": 1,
   "metadata": {},
   "outputs": [
    {
     "name": "stderr",
     "output_type": "stream",
     "text": [
      "/home/lucala/anaconda3/lib/python3.6/site-packages/h5py/__init__.py:36: FutureWarning: Conversion of the second argument of issubdtype from `float` to `np.floating` is deprecated. In future, it will be treated as `np.float64 == np.dtype(float).type`.\n",
      "  from ._conv import register_converters as _register_converters\n"
     ]
    },
    {
     "ename": "ModuleNotFoundError",
     "evalue": "No module named 'utils'",
     "output_type": "error",
     "traceback": [
      "\u001b[0;31m---------------------------------------------------------------------------\u001b[0m",
      "\u001b[0;31mModuleNotFoundError\u001b[0m                       Traceback (most recent call last)",
      "\u001b[0;32m<ipython-input-1-7b1aa72b7186>\u001b[0m in \u001b[0;36m<module>\u001b[0;34m()\u001b[0m\n\u001b[1;32m      1\u001b[0m \u001b[0;32mimport\u001b[0m \u001b[0mnumpy\u001b[0m \u001b[0;32mas\u001b[0m \u001b[0mnp\u001b[0m\u001b[0;34m\u001b[0m\u001b[0m\n\u001b[1;32m      2\u001b[0m \u001b[0;32mimport\u001b[0m \u001b[0mtensorflow\u001b[0m \u001b[0;32mas\u001b[0m \u001b[0mtf\u001b[0m\u001b[0;34m\u001b[0m\u001b[0m\n\u001b[0;32m----> 3\u001b[0;31m \u001b[0;32mfrom\u001b[0m \u001b[0mutils\u001b[0m \u001b[0;32mimport\u001b[0m \u001b[0mget_minibatches_idx\u001b[0m\u001b[0;34m\u001b[0m\u001b[0m\n\u001b[0m\u001b[1;32m      4\u001b[0m \u001b[0mbatch_size\u001b[0m \u001b[0;34m=\u001b[0m \u001b[0;36m4\u001b[0m\u001b[0;34m\u001b[0m\u001b[0m\n\u001b[1;32m      5\u001b[0m \u001b[0mnum_gpu\u001b[0m \u001b[0;34m=\u001b[0m \u001b[0;36m2\u001b[0m\u001b[0;34m\u001b[0m\u001b[0m\n",
      "\u001b[0;31mModuleNotFoundError\u001b[0m: No module named 'utils'"
     ]
    }
   ],
   "source": [
    "import numpy as np\n",
    "import tensorflow as tf\n",
    "from utils import get_minibatches_idx\n",
    "batch_size = 4\n",
    "num_gpu = 2\n",
    "num_iter = 100000\n",
    "#test output of load_gridmap_onmove\n",
    "data_path = '/mnt/ds3lab/daod/mercedes_benz/phlippe/dataset/BigLoop/'\n",
    "train_list = data_path + \"train_onmove_long_96x96.txt\"\n",
    "f = open(train_list, \"r\")\n",
    "trainfiles = f.readlines()\n",
    "test = tf.convert_to_tensor(np.array(trainfiles))\n",
    "print(tf.Session().run(test[0]).decode(\"utf-8\"))\n",
    "\n",
    "\n",
    "def filemapper(in_file):\n",
    "    print(tf.read_file(in_file))\n",
    "    str_file = tf.Session().run(in_file).decode(\"utf-8\")\n",
    "    target_seq, input_seq, maps, tf_matrix = load_gridmap_onmove(str_file,image_size, sequence_steps, useCombinedMask)\n",
    "    return tf.convert_to_tensor(target_seq), tf.convert_to_tensor(input_seq), tf.convert_to_tensor(maps), tf.convert_to_tensor(tf_matrix)\n",
    "\n",
    "print(\"Setup dataset...\")\n",
    "dataset = tf.data.Dataset.from_tensor_slices(tf.convert_to_tensor(np.array(trainfiles),name='trainfiles'))\n",
    "#map trainfiles to numbers by extracting last part\n",
    "dataset = dataset.map(filemapper, num_parallel_calls=64)\n",
    "#shuffle and enhance dataset by num_iter amount\n",
    "dataset = dataset.shuffle(10000).repeat(num_iter)\n",
    "dataset = dataset.batch(batch_size*num_gpu)\n",
    "dataset = dataset.prefetch(num_gpu)"
   ]
  },
  {
   "cell_type": "code",
   "execution_count": null,
   "metadata": {},
   "outputs": [],
   "source": []
  }
 ],
 "metadata": {
  "kernelspec": {
   "display_name": "Python 3",
   "language": "python",
   "name": "python3"
  },
  "language_info": {
   "codemirror_mode": {
    "name": "ipython",
    "version": 3
   },
   "file_extension": ".py",
   "mimetype": "text/x-python",
   "name": "python",
   "nbconvert_exporter": "python",
   "pygments_lexer": "ipython3",
   "version": "3.6.4"
  }
 },
 "nbformat": 4,
 "nbformat_minor": 2
}
