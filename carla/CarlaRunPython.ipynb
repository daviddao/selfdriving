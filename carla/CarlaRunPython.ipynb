{
 "cells": [
  {
   "cell_type": "code",
   "execution_count": null,
   "metadata": {},
   "outputs": [
    {
     "name": "stderr",
     "output_type": "stream",
     "text": [
      "C:\\Users\\lanze\\Anaconda3\\lib\\site-packages\\h5py\\__init__.py:36: FutureWarning: Conversion of the second argument of issubdtype from `float` to `np.floating` is deprecated. In future, it will be treated as `np.float64 == np.dtype(float).type`.\n",
      "  from ._conv import register_converters as _register_converters\n",
      "INFO: listening to server localhost:2000\n"
     ]
    },
    {
     "name": "stdout",
     "output_type": "stream",
     "text": [
      "Setup variables...\n",
      "Target shape = [1, 96, 96, 19, 2]\n",
      "Ego motion shape = [1, 19, 3, 8]\n",
      "RGB/Segmentation shape = [1, 19, 80, 240, 3]\n",
      "Depth shape = [1, 19, 80, 240, 1]\n",
      "K = 9, T = 10\n",
      "Iteration 0 on tower_0\n",
      " [*] Reading checkpoints...\n",
      "INFO:tensorflow:Restoring parameters from ./model/pure-test_GRIDMAP_MCNET_onmove_image_size=96_K=9_T=10_seqsteps=1_batch_size=4_alpha=1.001_beta=0.0_lr_G=0.0001_lr_D=0.0001_d_in=20_selu=True_comb=False_predV=-1/MCNET.model-274702\n"
     ]
    },
    {
     "name": "stderr",
     "output_type": "stream",
     "text": [
      "INFO: Restoring parameters from ./model/pure-test_GRIDMAP_MCNET_onmove_image_size=96_K=9_T=10_seqsteps=1_batch_size=4_alpha=1.001_beta=0.0_lr_G=0.0001_lr_D=0.0001_d_in=20_selu=True_comb=False_predV=-1/MCNET.model-274702\n"
     ]
    },
    {
     "name": "stdout",
     "output_type": "stream",
     "text": [
      "./model/pure-test_GRIDMAP_MCNET_onmove_image_size=96_K=9_T=10_seqsteps=1_batch_size=4_alpha=1.001_beta=0.0_lr_G=0.0001_lr_D=0.0001_d_in=20_selu=True_comb=False_predV=-1/\n",
      " [*] Load SUCCESS\n",
      "CarlaClient connected\n",
      "Starting new episode at 'Town01'...\n",
      "Time per gridmap gen: 0.012, Time per preprocess: 0.228, Time per eval: 0.239, Time per image: 0.033, Time per tk: 0.0318"
     ]
    }
   ],
   "source": [
    "#Realtime eval only displays data, does not save any data.\n",
    "#Change directory in tf_carla_eval.py on line 22 before running!\n",
    "\n",
    "run real_time_eval/carla_eval_realtime.py --autopilot -d=True"
   ]
  },
  {
   "cell_type": "code",
   "execution_count": null,
   "metadata": {},
   "outputs": [
    {
     "name": "stderr",
     "output_type": "stream",
     "text": [
      "C:\\Users\\lanze\\Anaconda3\\lib\\site-packages\\h5py\\__init__.py:36: FutureWarning: Conversion of the second argument of issubdtype from `float` to `np.floating` is deprecated. In future, it will be treated as `np.float64 == np.dtype(float).type`.\n",
      "  from ._conv import register_converters as _register_converters\n",
      "INFO: listening to server localhost:2000\n"
     ]
    },
    {
     "name": "stdout",
     "output_type": "stream",
     "text": [
      "CarlaClient connected\n",
      "Starting new episode at 'Town01'...\n",
      "Vehicle at (361.2, -2.4), -0 km/h, Collision: {vehicles=0, pedestrians=0, other=0}, 0% other lane, 0% off-road, (304 non-player agents in the scene))Starting new episode at 'Town01'...\n",
      "Vehicle at (161.3, 53.3), 4 km/h, Collision: {vehicles=0, pedestrians=0, other=0}, 0% other lane, 0% off-road, (306 non-player agents in the scene))MISBEHAVIOUR DETECTED! Discarding Episode... \n",
      "\n",
      "Starting new episode at 'Town01'...\n",
      "Vehicle at (76.1, -2.0), 23 km/h, Collision: {vehicles=0, pedestrians=0, other=0}, 0% other lane, 0% off-road, (304 non-player agents in the scene))Starting new episode at 'Town01'...\n",
      "Vehicle at (100.5, 330.7), 22 km/h, Collision: {vehicles=0, pedestrians=0, other=0}, 0% other lane, 0% off-road, (306 non-player agents in the scene)Starting new episode at 'Town01'...\n",
      "Vehicle at (90.3, 2.2), 21 km/h, Collision: {vehicles=0, pedestrians=0, other=0}, 0% other lane, 0% off-road, (304 non-player agents in the scene)))Starting new episode at 'Town01'...\n",
      "Vehicle at (88.6, 310.0), 10 km/h, Collision: {vehicles=0, pedestrians=0, other=0}, 0% other lane, 0% off-road, (306 non-player agents in the scene)MISBEHAVIOUR DETECTED! Discarding Episode... \n",
      "\n",
      "Starting new episode at 'Town01'...\n",
      "Vehicle at (334.7, 92.1), 14 km/h, Collision: {vehicles=0, pedestrians=0, other=0}, 0% other lane, 0% off-road, (306 non-player agents in the scene)Starting new episode at 'Town01'...\n",
      "Vehicle at (383.6, -2.4), -0 km/h, Collision: {vehicles=0, pedestrians=0, other=0}, 0% other lane, 0% off-road, (305 non-player agents in the scene))MISBEHAVIOUR DETECTED! Discarding Episode... \n",
      "\n",
      "Starting new episode at 'Town01'...\n",
      "Vehicle at (-2.2, 53.0), 20 km/h, Collision: {vehicles=0, pedestrians=0, other=0}, 0% other lane, 0% off-road, (302 non-player agents in the scene))Starting new episode at 'Town01'...\n",
      "Vehicle at (132.3, -2.0), 21 km/h, Collision: {vehicles=0, pedestrians=0, other=0}, 0% other lane, 0% off-road, (305 non-player agents in the scene)Starting new episode at 'Town01'...\n",
      "Vehicle at (49.6, 331.2), -0 km/h, Collision: {vehicles=0, pedestrians=0, other=0}, 0% other lane, 0% off-road, (307 non-player agents in the scene)Starting new episode at 'Town01'...\n",
      "Vehicle at (297.4, 59.7), -0 km/h, Collision: {vehicles=0, pedestrians=0, other=0}, 0% other lane, 0% off-road, (305 non-player agents in the scene)Starting new episode at 'Town01'...\n",
      "Vehicle at (338.8, 121.5), 19 km/h, Collision: {vehicles=0, pedestrians=0, other=0}, 0% other lane, 0% off-road, (304 non-player agents in the scene)Starting new episode at 'Town01'...\n",
      "Vehicle at (392.2, 23.6), 20 km/h, Collision: {vehicles=0, pedestrians=0, other=0}, 0% other lane, 0% off-road, (305 non-player agents in the scene)Starting new episode at 'Town01'...\n",
      "Vehicle at (40.8, 331.1), 18 km/h, Collision: {vehicles=0, pedestrians=0, other=0}, 0% other lane, 0% off-road, (303 non-player agents in the scene)Starting new episode at 'Town01'...\n",
      "Vehicle at (114.3, 129.7), -0 km/h, Collision: {vehicles=0, pedestrians=0, other=0}, 0% other lane, 0% off-road, (305 non-player agents in the scene)Starting new episode at 'Town01'...\n",
      "Vehicle at (239.8, 59.6), 22 km/h, Collision: {vehicles=0, pedestrians=0, other=0}, 0% other lane, 0% off-road, (303 non-player agents in the scene)Starting new episode at 'Town01'...\n",
      "Vehicle at (99.5, 60.3), 22 km/h, Collision: {vehicles=0, pedestrians=0, other=0}, 0% other lane, 0% off-road, (305 non-player agents in the scene))Starting new episode at 'Town01'...\n",
      "Vehicle at (314.8, 330.4), -0 km/h, Collision: {vehicles=0, pedestrians=0, other=0}, 0% other lane, 0% off-road, (306 non-player agents in the scene)Starting new episode at 'Town01'...\n",
      "Vehicle at (116.2, 327.0), 23 km/h, Collision: {vehicles=0, pedestrians=0, other=0}, 0% other lane, 0% off-road, (305 non-player agents in the scene)Starting new episode at 'Town01'...\n",
      "Vehicle at (391.9, 320.9), 21 km/h, Collision: {vehicles=0, pedestrians=0, other=0}, 0% other lane, 0% off-road, (305 non-player agents in the scene)"
     ]
    }
   ],
   "source": [
    "run gather_data_situ.py --autopilot --images-to-disk -d=True"
   ]
  },
  {
   "cell_type": "code",
   "execution_count": null,
   "metadata": {},
   "outputs": [
    {
     "name": "stderr",
     "output_type": "stream",
     "text": [
      "INFO: listening to server localhost:2000\n"
     ]
    },
    {
     "name": "stdout",
     "output_type": "stream",
     "text": [
      "True\n",
      "CarlaClient connected\n",
      "Player start index=50\n",
      "Starting new episode at 'Town01'...\n",
      "Data saved in 'Z:/thesis/carla/run_1536320899053/episode_0000/'\n",
      "Vehicle at (110.5, -2.0), -0 km/h, Collision: {vehicles=0, pedestrians=0, other=0}, 0% other lane, 0% off-road, (308 non-player agents in the scene)"
     ]
    }
   ],
   "source": [
    "run gather_data.py --autopilot --images-to-disk --lidar --intersection-file=\"./carla_intersection_locations.txt\""
   ]
  },
  {
   "cell_type": "code",
   "execution_count": null,
   "metadata": {},
   "outputs": [
    {
     "name": "stderr",
     "output_type": "stream",
     "text": [
      "INFO: listening to server localhost:2000\n"
     ]
    },
    {
     "name": "stdout",
     "output_type": "stream",
     "text": [
      "CarlaClient connected\n",
      "Starting new episode at 'Town01'...\n",
      "Distance travelled=57.01998111612236. Reward Dist=-0.5. Reward Speed=-0.6363636247380432.\n",
      "Distance travelled=56.849957768659955. Reward Dist=-0.5. Reward Speed=-0.6363636248390351.\n",
      "Distance travelled=56.61378221707099. Reward Dist=-0.5. Reward Speed=-0.6363636249399258.\n",
      "Distance travelled=56.31248639053157. Reward Dist=-0.5. Reward Speed=-0.6363636250407159.\n",
      "Distance travelled=56.18466383801246. Reward Dist=-0.5. Reward Speed=-0.6376389393801145.\n",
      "Distance travelled=56.19831368322385. Reward Dist=-0.5. Reward Speed=-0.6364034878373932.\n",
      "Distance travelled=56.21471874669446. Reward Dist=-0.5. Reward Speed=-0.636170577866307.\n",
      "Distance travelled=56.227817397817084. Reward Dist=-0.5. Reward Speed=-0.6361887382898168.\n",
      "Distance travelled=56.23686898887461. Reward Dist=-0.5. Reward Speed=-0.63624230804433.\n",
      "Distance travelled=56.24265097885946. Reward Dist=-0.5. Reward Speed=-0.6362838887891307.\n",
      "Distance travelled=56.246200469129995. Reward Dist=-0.5. Reward Speed=-0.636309193066026.\n",
      "Distance travelled=56.24830626957427. Reward Dist=-0.5. Reward Speed=-0.6363303258383475.\n",
      "Distance travelled=56.24953148026644. Reward Dist=-0.5. Reward Speed=-0.6363414721870706.\n",
      "Distance travelled=56.25020714025898. Reward Dist=-0.5. Reward Speed=-0.6363494765993074.\n",
      "Distance travelled=56.2504599250259. Reward Dist=-0.5. Reward Speed=-0.6363587186091635.\n",
      "Distance travelled=56.250611935588395. Reward Dist=-0.5. Reward Speed=-0.6363575377282904.\n",
      "Distance travelled=56.2507505822711. Reward Dist=-0.5. Reward Speed=-0.6363584069012134.\n",
      "Distance travelled=56.25085608184572. Reward Dist=-0.5. Reward Speed=-0.6363598301436348.\n",
      "Distance travelled=56.25091034594744. Reward Dist=-0.5. Reward Speed=-0.6363626527107122.\n",
      "Distance travelled=56.25094135403328. Reward Dist=-0.5. Reward Speed=-0.636362102223341.\n",
      "Distance travelled=56.25096977812968. Reward Dist=-0.5. Reward Speed=-0.6363628051594775.\n",
      "Distance travelled=56.25099561823201. Reward Dist=-0.5. Reward Speed=-0.6363630022125049.\n",
      "Distance travelled=56.251005509886134. Reward Dist=-0.5. Reward Speed=-0.6363636245412285.\n",
      "Distance travelled=56.25101326192286. Reward Dist=-0.5. Reward Speed=-0.6363632573061511.\n",
      "Distance travelled=56.252824146990086. Reward Dist=-0.5. Reward Speed=-0.5158712470859833.\n",
      "Distance travelled=56.25569865871529. Reward Dist=-0.5. Reward Speed=-0.3576926983319457.\n",
      "Distance travelled=56.25709397496966. Reward Dist=-0.5. Reward Speed=-0.23473618379625982.\n",
      "Distance travelled=56.25778689550864. Reward Dist=-0.5. Reward Speed=-0.16824185473339298.\n",
      "Distance travelled=56.24183604073193. Reward Dist=-0.5. Reward Speed=-0.12011249541261021.\n",
      "Distance travelled=56.22612159335239. Reward Dist=-0.5. Reward Speed=-0.059791928222662494.\n",
      "Distance travelled=56.19808915827271. Reward Dist=-0.5. Reward Speed=-0.006628274342946605.\n",
      "Distance travelled=56.13921027409238. Reward Dist=-0.5. Reward Speed=0.05147272444007833.\n",
      "Distance travelled=56.08874298032438. Reward Dist=-0.5. Reward Speed=0.09603926519573691.\n",
      "Distance travelled=56.046012207172666. Reward Dist=-0.5. Reward Speed=0.09452688958194999.\n",
      "Distance travelled=55.98290317599371. Reward Dist=-0.5. Reward Speed=0.08459816546022536.\n",
      "Distance travelled=55.872430122919354. Reward Dist=-0.5. Reward Speed=0.08883982668444668.\n",
      "Distance travelled=55.745606334825055. Reward Dist=-0.5. Reward Speed=0.14331987612291885.\n",
      "Distance travelled=39.68544156734356. Reward Dist=-0.5. Reward Speed=-0.6363636245412285.\n",
      "Distance travelled=39.595380079105844. Reward Dist=-0.5. Reward Speed=-0.6363636242222285.\n",
      "Distance travelled=39.413912144349005. Reward Dist=-0.5. Reward Speed=-0.636363623973738.\n",
      "Distance travelled=39.13533987486102. Reward Dist=-0.5. Reward Speed=-0.6363636237254962.\n",
      "Distance travelled=38.759782239017014. Reward Dist=-0.5. Reward Speed=-0.6363636234775025.\n",
      "Distance travelled=38.33526637980037. Reward Dist=-0.5. Reward Speed=-0.636363620660746.\n",
      "Distance travelled=38.27468869866159. Reward Dist=-0.5. Reward Speed=-0.6371093310966109.\n",
      "Distance travelled=38.297972265638435. Reward Dist=-0.5. Reward Speed=-0.6362633217515685.\n",
      "Distance travelled=38.320870977176604. Reward Dist=-0.5. Reward Speed=-0.6361459162297135.\n",
      "Distance travelled=38.338068255440156. Reward Dist=-0.5. Reward Speed=-0.6361866464177887.\n",
      "Distance travelled=38.34959830753469. Reward Dist=-0.5. Reward Speed=-0.6362442520424543.\n",
      "Distance travelled=38.356855007512635. Reward Dist=-0.5. Reward Speed=-0.6362883102982322.\n",
      "Distance travelled=38.3612400585342. Reward Dist=-0.5. Reward Speed=-0.6363134151318862.\n",
      "Distance travelled=38.36381065003485. Reward Dist=-0.5. Reward Speed=-0.6363315527214586.\n",
      "Distance travelled=38.3652919465381. Reward Dist=-0.5. Reward Speed=-0.6363416567595787.\n",
      "Distance travelled=38.36612719868452. Reward Dist=-0.5. Reward Speed=-0.6363501445768064.\n",
      "Distance travelled=38.36659496798493. Reward Dist=-0.5. Reward Speed=-0.6363549058238209.\n",
      "Distance travelled=38.366771023995945. Reward Dist=-0.5. Reward Speed=-0.6363602226156997.\n",
      "Distance travelled=38.36686952459764. Reward Dist=-0.5. Reward Speed=-0.6363594567692207.\n",
      "Distance travelled=38.366968025202844. Reward Dist=-0.5. Reward Speed=-0.6363608871786252.\n",
      "Distance travelled=38.36704379490154. Reward Dist=-0.5. Reward Speed=-0.6363621472423326.\n",
      "Distance travelled=38.36707789126664. Reward Dist=-0.5. Reward Speed=-0.6363632700360476.\n",
      "Distance travelled=38.36709683369187. Reward Dist=-0.5. Reward Speed=-0.6363625861165445.\n",
      "Distance travelled=38.36711756182338. Reward Dist=-0.5. Reward Speed=-0.6363628737477329.\n",
      "Distance travelled=38.367132715763056. Reward Dist=-0.5. Reward Speed=-0.6363631445153098.\n",
      "Distance travelled=38.36714408121787. Reward Dist=-0.5. Reward Speed=-0.6363636245412285.\n",
      "Distance travelled=38.36846535097984. Reward Dist=-0.5. Reward Speed=-0.46267994207209306.\n",
      "Distance travelled=38.371326016933. Reward Dist=-0.5. Reward Speed=-0.31760466596389547.\n",
      "Distance travelled=38.37414649808526. Reward Dist=-0.5. Reward Speed=-0.18466968452543048.\n",
      "Distance travelled=38.375604391647585. Reward Dist=-0.5. Reward Speed=-0.07064742862983803.\n",
      "Distance travelled=38.37359355362079. Reward Dist=-0.5. Reward Speed=-0.00992618821523944.\n",
      "Distance travelled=38.371770208243035. Reward Dist=-0.5. Reward Speed=0.038206422267703766.\n",
      "Distance travelled=38.378209736937. Reward Dist=-0.5. Reward Speed=0.07221800004629653.\n",
      "Distance travelled=38.38650386104336. Reward Dist=-0.5. Reward Speed=0.13106793654459725.\n",
      "Distance travelled=38.395527660104044. Reward Dist=-0.5. Reward Speed=0.18617350958273549.\n",
      "Distance travelled=38.40553330572305. Reward Dist=-0.5. Reward Speed=0.2308871979377748.\n",
      "Distance travelled=38.41830843117505. Reward Dist=-0.5. Reward Speed=0.22308063740464668.\n",
      "Distance travelled=38.430460519346504. Reward Dist=-0.5. Reward Speed=0.22598711135282423.\n",
      "Distance travelled=38.43553590766581. Reward Dist=-0.5. Reward Speed=0.24129176215329928.\n",
      "Distance travelled=38.44267141245824. Reward Dist=-0.5. Reward Speed=0.2763983963707667.\n",
      "Distance travelled=38.45008141003052. Reward Dist=-0.5. Reward Speed=0.317477610546666.\n",
      "Distance travelled=38.455336478538804. Reward Dist=-0.5. Reward Speed=0.27035468098426463.\n",
      "Distance travelled=38.465067782118375. Reward Dist=-0.5. Reward Speed=0.2276374012654564.\n",
      "Distance travelled=38.47576649618213. Reward Dist=-0.5. Reward Speed=0.22156715639572522.\n",
      "Distance travelled=39.68544156734356. Reward Dist=-0.5. Reward Speed=-0.6363636245412285.\n",
      "Distance travelled=39.47463774578696. Reward Dist=-0.5. Reward Speed=-0.6363636240438588.\n",
      "Distance travelled=39.223462409662844. Reward Dist=-0.5. Reward Speed=-0.6363636237955468.\n",
      "Distance travelled=38.8752661905821. Reward Dist=-0.5. Reward Speed=-0.6363636235474831.\n",
      "Distance travelled=38.43254012154332. Reward Dist=-0.5. Reward Speed=-0.6363636232900086.\n",
      "Distance travelled=38.27007165072922. Reward Dist=-0.5. Reward Speed=-0.6396427619360566.\n",
      "Distance travelled=38.291110656409394. Reward Dist=-0.5. Reward Speed=-0.6364556827376581.\n",
      "Distance travelled=38.315083424386316. Reward Dist=-0.5. Reward Speed=-0.6358821909245304.\n",
      "Distance travelled=38.33397788202459. Reward Dist=-0.5. Reward Speed=-0.635922001468684.\n",
      "Distance travelled=38.34695110000841. Reward Dist=-0.5. Reward Speed=-0.6360390793105404.\n"
     ]
    },
    {
     "name": "stdout",
     "output_type": "stream",
     "text": [
      "Distance travelled=38.35523446468114. Reward Dist=-0.5. Reward Speed=-0.6361560623321252.\n",
      "Distance travelled=38.36028227801431. Reward Dist=-0.5. Reward Speed=-0.6362339909111313.\n",
      "Distance travelled=38.36326938316178. Reward Dist=-0.5. Reward Speed=-0.6362774118089524.\n",
      "Distance travelled=38.36499871554591. Reward Dist=-0.5. Reward Speed=-0.6363060295130021.\n",
      "Distance travelled=38.36597614361453. Reward Dist=-0.5. Reward Speed=-0.6363288985733966.\n",
      "Distance travelled=38.366288584931105. Reward Dist=-0.5. Reward Speed=-0.6363483107419625.\n",
      "Distance travelled=38.36654041054745. Reward Dist=-0.5. Reward Speed=-0.6363469591840055.\n",
      "Distance travelled=38.36676192831219. Reward Dist=-0.5. Reward Speed=-0.6363512299934859.\n",
      "Distance travelled=38.36692461617118. Reward Dist=-0.5. Reward Speed=-0.6363553630919208.\n",
      "Distance travelled=38.36699659732942. Reward Dist=-0.5. Reward Speed=-0.6363604957756299.\n",
      "Distance travelled=38.3670496360788. Reward Dist=-0.5. Reward Speed=-0.6363598071358186.\n",
      "Distance travelled=38.367093095186966. Reward Dist=-0.5. Reward Speed=-0.6363606750278424.\n",
      "Distance travelled=38.36713476848945. Reward Dist=-0.5. Reward Speed=-0.6363617649569382.\n",
      "Distance travelled=38.36714992241778. Reward Dist=-0.5. Reward Speed=-0.6363632478996719.\n",
      "Distance travelled=38.36716507634619. Reward Dist=-0.5. Reward Speed=-0.6363628859256386.\n",
      "Distance travelled=38.36717443911709. Reward Dist=-0.5. Reward Speed=-0.6363626609566866.\n",
      "Distance travelled=38.3676745187795. Reward Dist=-0.5. Reward Speed=-0.5578913150794883.\n",
      "Distance travelled=38.36813251181837. Reward Dist=-0.5. Reward Speed=-0.41688789199587284.\n",
      "Distance travelled=38.36831211673114. Reward Dist=-0.5. Reward Speed=-0.3027469199139925.\n",
      "Distance travelled=38.36722226018862. Reward Dist=-0.5. Reward Speed=-0.20715478705017898.\n",
      "Distance travelled=38.36164614924238. Reward Dist=-0.5. Reward Speed=-0.12386557198736259.\n",
      "Distance travelled=38.35692921181627. Reward Dist=-0.5. Reward Speed=-0.04434728237955937.\n",
      "Distance travelled=38.353196475791336. Reward Dist=-0.5. Reward Speed=0.029669650713344042.\n",
      "Distance travelled=38.34990428204244. Reward Dist=-0.5. Reward Speed=0.09902259661738688.\n",
      "Distance travelled=38.34914379699701. Reward Dist=-0.5. Reward Speed=0.15281255437568708.\n",
      "Distance travelled=38.35354571674763. Reward Dist=-0.5. Reward Speed=0.20996746497002816.\n",
      "Distance travelled=38.36483468917836. Reward Dist=-0.5. Reward Speed=0.24794032374812702.\n",
      "Distance travelled=38.380174649372506. Reward Dist=-0.5. Reward Speed=0.31053202277686187.\n",
      "Distance travelled=38.39786891654313. Reward Dist=-0.5. Reward Speed=0.36654388977884034.\n",
      "Distance travelled=38.426459509819054. Reward Dist=-0.5. Reward Speed=0.39743708285963897.\n",
      "Distance travelled=38.46118412833593. Reward Dist=-0.5. Reward Speed=0.41646522465920666.\n",
      "Distance travelled=39.68544156734356. Reward Dist=-0.5. Reward Speed=-0.6363636245412285.\n",
      "Distance travelled=39.47463774578696. Reward Dist=-0.5. Reward Speed=-0.6363636240438588.\n",
      "Distance travelled=39.223462409662844. Reward Dist=-0.5. Reward Speed=-0.6363636237955468.\n",
      "Distance travelled=38.8752661905821. Reward Dist=-0.5. Reward Speed=-0.6363636235474831.\n",
      "Distance travelled=38.43254012154332. Reward Dist=-0.5. Reward Speed=-0.6363636232900086.\n",
      "Distance travelled=38.27006986050094. Reward Dist=-0.5. Reward Speed=-0.6397110457393163.\n",
      "Distance travelled=38.29110707796258. Reward Dist=-0.5. Reward Speed=-0.636456021911023.\n",
      "Distance travelled=38.31508163626723. Reward Dist=-0.5. Reward Speed=-0.6358854264658726.\n",
      "Distance travelled=38.33399039298403. Reward Dist=-0.5. Reward Speed=-0.6359256154656215.\n",
      "Distance travelled=38.3469763289642. Reward Dist=-0.5. Reward Speed=-0.6360565255419874.\n",
      "Distance travelled=38.35526304613119. Reward Dist=-0.5. Reward Speed=-0.6361617540407556.\n",
      "Distance travelled=38.36031821682093. Reward Dist=-0.5. Reward Speed=-0.6362316195074191.\n",
      "Distance travelled=38.36331067775651. Reward Dist=-0.5. Reward Speed=-0.6362782617941846.\n",
      "Distance travelled=38.36503800610028. Reward Dist=-0.5. Reward Speed=-0.6363096561462925.\n",
      "Distance travelled=38.36601164469025. Reward Dist=-0.5. Reward Speed=-0.6363276700968508.\n",
      "Distance travelled=38.36632787429805. Reward Dist=-0.5. Reward Speed=-0.6363481492365531.\n",
      "Distance travelled=38.36658148573351. Reward Dist=-0.5. Reward Speed=-0.6363469233247823.\n",
      "Distance travelled=38.36680679187871. Reward Dist=-0.5. Reward Speed=-0.6363508717018826.\n",
      "Distance travelled=38.36696947984255. Reward Dist=-0.5. Reward Speed=-0.6363549409180765.\n",
      "Distance travelled=38.367041460923836. Reward Dist=-0.5. Reward Speed=-0.6363605418034164.\n",
      "Distance travelled=38.36709071113842. Reward Dist=-0.5. Reward Speed=-0.6363595523867055.\n",
      "Distance travelled=38.36713417033963. Reward Dist=-0.5. Reward Speed=-0.6363601598575942.\n",
      "Distance travelled=38.3671758435975. Reward Dist=-0.5. Reward Speed=-0.6363613838770376.\n",
      "Distance travelled=38.36719099750961. Reward Dist=-0.5. Reward Speed=-0.6363632689135555.\n",
      "Distance travelled=38.36720236294374. Reward Dist=-0.5. Reward Speed=-0.6363633168619157.\n",
      "Distance travelled=38.367376968434705. Reward Dist=-0.5. Reward Speed=-0.49079187971532307.\n",
      "Distance travelled=38.36592751845031. Reward Dist=-0.5. Reward Speed=-0.33663713180913646.\n",
      "Distance travelled=38.36437574665624. Reward Dist=-0.5. Reward Speed=-0.20151249265562465.\n",
      "Distance travelled=38.362173884891064. Reward Dist=-0.5. Reward Speed=-0.0778034966379082.\n",
      "Distance travelled=38.354642452538876. Reward Dist=-0.5. Reward Speed=0.03031929793624033.\n",
      "Distance travelled=38.34810265160761. Reward Dist=-0.5. Reward Speed=0.12884147567389437.\n",
      "Distance travelled=38.34649249866835. Reward Dist=-0.5. Reward Speed=0.20899952897162621.\n",
      "Distance travelled=38.34381880647077. Reward Dist=-0.5. Reward Speed=0.2906775656026003.\n",
      "Distance travelled=38.340969772245536. Reward Dist=-0.5. Reward Speed=0.36609574958664726.\n",
      "Distance travelled=38.34472808842309. Reward Dist=-0.5. Reward Speed=0.42813871746594534.\n",
      "Distance travelled=38.35478880996136. Reward Dist=-0.5. Reward Speed=0.4921086491577279.\n",
      "Distance travelled=38.36598677439189. Reward Dist=-0.5. Reward Speed=0.5585210489341521.\n",
      "Distance travelled=38.38214087960599. Reward Dist=-0.5. Reward Speed=0.6109407068650761.\n",
      "Distance travelled=38.401438347361506. Reward Dist=-0.5. Reward Speed=0.6578036084778864.\n",
      "Distance travelled=38.42575840802204. Reward Dist=-0.5. Reward Speed=0.6513855542802329.\n",
      "Distance travelled=38.4522559760694. Reward Dist=-0.5. Reward Speed=0.6047263054651515.\n",
      "Distance travelled=39.68544156734356. Reward Dist=-0.5. Reward Speed=-0.6363636245412285.\n",
      "Distance travelled=39.47463774578696. Reward Dist=-0.5. Reward Speed=-0.6363636240438588.\n",
      "Distance travelled=39.223462409662844. Reward Dist=-0.5. Reward Speed=-0.6363636237955468.\n",
      "Distance travelled=38.8752661905821. Reward Dist=-0.5. Reward Speed=-0.6363636235474831.\n",
      "Distance travelled=38.43254012154332. Reward Dist=-0.5. Reward Speed=-0.6363636232900086.\n",
      "Distance travelled=38.270062699647795. Reward Dist=-0.5. Reward Speed=-0.6395903610759389.\n",
      "Distance travelled=38.29109992114092. Reward Dist=-0.5. Reward Speed=-0.636455936210833.\n",
      "Distance travelled=38.315076271945934. Reward Dist=-0.5. Reward Speed=-0.6358866821955075.\n",
      "Distance travelled=38.3339794553897. Reward Dist=-0.5. Reward Speed=-0.6359265320774533.\n",
      "Distance travelled=38.34696896703302. Reward Dist=-0.5. Reward Speed=-0.6360543566612306.\n",
      "Distance travelled=38.355264832522714. Reward Dist=-0.5. Reward Speed=-0.6361592226268432.\n",
      "Distance travelled=38.36031464446597. Reward Dist=-0.5. Reward Speed=-0.6362297515099729.\n",
      "Distance travelled=38.36330353353076. Reward Dist=-0.5. Reward Speed=-0.6362733975999854.\n",
      "Distance travelled=38.365025504246. Reward Dist=-0.5. Reward Speed=-0.6363078344358387.\n"
     ]
    }
   ],
   "source": [
    "run DQNcarCarla.py"
   ]
  }
 ],
 "metadata": {
  "kernelspec": {
   "display_name": "Python 3",
   "language": "python",
   "name": "python3"
  },
  "language_info": {
   "codemirror_mode": {
    "name": "ipython",
    "version": 3
   },
   "file_extension": ".py",
   "mimetype": "text/x-python",
   "name": "python",
   "nbconvert_exporter": "python",
   "pygments_lexer": "ipython3",
   "version": "3.6.5"
  }
 },
 "nbformat": 4,
 "nbformat_minor": 2
}
