{
 "cells": [
  {
   "cell_type": "code",
   "execution_count": null,
   "metadata": {},
   "outputs": [
    {
     "name": "stderr",
     "output_type": "stream",
     "text": [
      "INFO: listening to server localhost:2000\n"
     ]
    },
    {
     "name": "stdout",
     "output_type": "stream",
     "text": [
      "CarlaClient connected\n",
      "Starting new episode at 'Town01'...\n",
      "Data saved in 'Z:/thesis/carla/run_1530520765085/episode_0000/'\n",
      "Vehicle at (209.6, -2.0), 0 km/h, Collision: {vehicles=0, pedestrians=0, other=0}, 0% other lane, 0% off-road, (117 non-player agents in the scene))time_diff: 0.110000, yaw: 0.000122, yaw_old: 359.999634, yaw_rate: 0.004439\n",
      "Vehicle at (209.6, -2.0), 0 km/h, Collision: {vehicles=0, pedestrians=0, other=0}, 0% other lane, 0% off-road, (117 non-player agents in the scene)time_diff: 0.400000, yaw: 0.000122, yaw_old: 0.000122, yaw_rate: 0.000000\n",
      "Vehicle at (209.6, -2.0), 0 km/h, Collision: {vehicles=0, pedestrians=0, other=0}, 0% other lane, 0% off-road, (117 non-player agents in the scene)time_diff: 0.400000, yaw: 0.000122, yaw_old: 0.000122, yaw_rate: 0.000000\n",
      "Vehicle at (209.6, -2.0), 0 km/h, Collision: {vehicles=0, pedestrians=0, other=0}, 0% other lane, 0% off-road, (117 non-player agents in the scene)time_diff: 0.400000, yaw: 0.000168, yaw_old: 0.000122, yaw_rate: 0.000114\n",
      "Vehicle at (209.6, -2.0), 0 km/h, Collision: {vehicles=0, pedestrians=0, other=0}, 0% other lane, 0% off-road, (117 non-player agents in the scene)time_diff: 0.400000, yaw: 0.000168, yaw_old: 0.000168, yaw_rate: 0.000000\n",
      "Vehicle at (209.6, -2.0), 0 km/h, Collision: {vehicles=0, pedestrians=0, other=0}, 0% other lane, 0% off-road, (117 non-player agents in the scene)time_diff: 0.400000, yaw: 0.000168, yaw_old: 0.000168, yaw_rate: 0.000000\n",
      "Vehicle at (209.6, -2.0), 0 km/h, Collision: {vehicles=0, pedestrians=0, other=0}, 0% other lane, 0% off-road, (117 non-player agents in the scene)time_diff: 0.400000, yaw: 0.000168, yaw_old: 0.000168, yaw_rate: 0.000000\n",
      "Vehicle at (209.6, -2.0), 0 km/h, Collision: {vehicles=0, pedestrians=0, other=0}, 0% other lane, 0% off-road, (117 non-player agents in the scene)time_diff: 0.400000, yaw: 0.000168, yaw_old: 0.000168, yaw_rate: 0.000000\n",
      "Vehicle at (209.6, -2.0), 0 km/h, Collision: {vehicles=0, pedestrians=0, other=0}, 0% other lane, 0% off-road, (117 non-player agents in the scene)time_diff: 0.400000, yaw: 0.000168, yaw_old: 0.000168, yaw_rate: 0.000000\n",
      "Vehicle at (209.6, -2.0), 0 km/h, Collision: {vehicles=0, pedestrians=0, other=0}, 0% other lane, 0% off-road, (117 non-player agents in the scene)time_diff: 0.400000, yaw: 0.000168, yaw_old: 0.000168, yaw_rate: 0.000000\n",
      "Vehicle at (209.6, -2.0), 0 km/h, Collision: {vehicles=0, pedestrians=0, other=0}, 0% other lane, 0% off-road, (117 non-player agents in the scene)time_diff: 0.400000, yaw: 0.000168, yaw_old: 0.000168, yaw_rate: 0.000000\n",
      "Vehicle at (209.6, -2.0), 0 km/h, Collision: {vehicles=0, pedestrians=0, other=0}, 0% other lane, 0% off-road, (117 non-player agents in the scene)time_diff: 0.400000, yaw: 0.000168, yaw_old: 0.000168, yaw_rate: 0.000000\n",
      "Vehicle at (209.6, -2.0), 0 km/h, Collision: {vehicles=0, pedestrians=0, other=0}, 0% other lane, 0% off-road, (117 non-player agents in the scene)time_diff: 0.400000, yaw: 0.000168, yaw_old: 0.000168, yaw_rate: 0.000000\n",
      "Vehicle at (209.6, -2.0), 0 km/h, Collision: {vehicles=0, pedestrians=0, other=0}, 0% other lane, 0% off-road, (117 non-player agents in the scene)time_diff: 0.400000, yaw: 0.000168, yaw_old: 0.000168, yaw_rate: 0.000000\n",
      "Vehicle at (209.6, -2.0), 0 km/h, Collision: {vehicles=0, pedestrians=0, other=0}, 0% other lane, 0% off-road, (117 non-player agents in the scene)time_diff: 0.400000, yaw: 0.000168, yaw_old: 0.000168, yaw_rate: 0.000000\n",
      "Vehicle at (209.6, -2.0), 0 km/h, Collision: {vehicles=0, pedestrians=0, other=0}, 0% other lane, 0% off-road, (117 non-player agents in the scene)time_diff: 0.400000, yaw: 0.000168, yaw_old: 0.000168, yaw_rate: 0.000000\n",
      "Vehicle at (209.5, -2.0), 4 km/h, Collision: {vehicles=0, pedestrians=0, other=0}, 0% other lane, 0% off-road, (117 non-player agents in the scene)time_diff: 0.400000, yaw: 0.036453, yaw_old: 0.000168, yaw_rate: 0.090714\n",
      "Vehicle at (209.3, -2.0), 8 km/h, Collision: {vehicles=0, pedestrians=0, other=0}, 0% other lane, 0% off-road, (117 non-player agents in the scene)time_diff: 0.400000, yaw: 0.316132, yaw_old: 0.036453, yaw_rate: 0.699196\n",
      "Vehicle at (209.0, -2.0), 12 km/h, Collision: {vehicles=0, pedestrians=0, other=0}, 0% other lane, 0% off-road, (117 non-player agents in the scene)time_diff: 0.400000, yaw: 0.233139, yaw_old: 0.316132, yaw_rate: 0.207481\n",
      "Vehicle at (208.7, -2.0), 15 km/h, Collision: {vehicles=0, pedestrians=0, other=0}, 0% other lane, 0% off-road, (117 non-player agents in the scene)time_diff: 0.400000, yaw: 0.128998, yaw_old: 0.233139, yaw_rate: 0.260353\n",
      "Vehicle at (208.2, -2.0), 18 km/h, Collision: {vehicles=0, pedestrians=0, other=0}, 0% other lane, 0% off-road, (117 non-player agents in the scene)time_diff: 0.400000, yaw: 0.567352, yaw_old: 0.128998, yaw_rate: 1.095886\n",
      "Vehicle at (207.6, -2.0), 21 km/h, Collision: {vehicles=0, pedestrians=0, other=0}, 0% other lane, 0% off-road, (117 non-player agents in the scene)time_diff: 0.400000, yaw: 0.267319, yaw_old: 0.567352, yaw_rate: 0.750084\n",
      "Vehicle at (207.0, -2.0), 24 km/h, Collision: {vehicles=0, pedestrians=0, other=0}, 0% other lane, 0% off-road, (117 non-player agents in the scene)time_diff: 0.400000, yaw: 359.888626, yaw_old: 0.267319, yaw_rate: 0.946732\n",
      "Vehicle at (206.3, -2.0), 25 km/h, Collision: {vehicles=0, pedestrians=0, other=0}, 0% other lane, 0% off-road, (117 non-player agents in the scene)time_diff: 0.400000, yaw: 359.330383, yaw_old: 359.888626, yaw_rate: 1.395607\n",
      "Vehicle at (205.6, -2.0), 26 km/h, Collision: {vehicles=0, pedestrians=0, other=0}, 0% other lane, 0% off-road, (117 non-player agents in the scene)time_diff: 0.400000, yaw: 359.549835, yaw_old: 359.330383, yaw_rate: 0.548630\n",
      "Vehicle at (204.8, -2.0), 27 km/h, Collision: {vehicles=0, pedestrians=0, other=0}, 0% other lane, 0% off-road, (117 non-player agents in the scene)time_diff: 0.400000, yaw: 0.412567, yaw_old: 359.549835, yaw_rate: 2.156830\n",
      "Vehicle at (204.1, -2.0), 27 km/h, Collision: {vehicles=0, pedestrians=0, other=0}, 0% other lane, 0% off-road, (117 non-player agents in the scene)time_diff: 0.400000, yaw: 1.600296, yaw_old: 0.412567, yaw_rate: 2.969322\n",
      "Vehicle at (203.4, -2.0), 26 km/h, Collision: {vehicles=0, pedestrians=0, other=0}, 0% other lane, 0% off-road, (117 non-player agents in the scene)time_diff: 0.400000, yaw: 1.729355, yaw_old: 1.600296, yaw_rate: 0.322647\n",
      "Vehicle at (202.7, -2.0), 26 km/h, Collision: {vehicles=0, pedestrians=0, other=0}, 0% other lane, 0% off-road, (117 non-player agents in the scene)time_diff: 0.400000, yaw: 1.228287, yaw_old: 1.729355, yaw_rate: 1.252670\n",
      "Vehicle at (202.0, -2.1), 25 km/h, Collision: {vehicles=0, pedestrians=0, other=0}, 0% other lane, 0% off-road, (117 non-player agents in the scene)time_diff: 0.400000, yaw: 1.353256, yaw_old: 1.228287, yaw_rate: 0.312424\n",
      "Vehicle at (201.3, -2.1), 25 km/h, Collision: {vehicles=0, pedestrians=0, other=0}, 0% other lane, 0% off-road, (117 non-player agents in the scene)time_diff: 0.400000, yaw: 2.043854, yaw_old: 1.353256, yaw_rate: 1.726494\n",
      "Vehicle at (200.6, -2.1), 24 km/h, Collision: {vehicles=0, pedestrians=0, other=0}, 0% other lane, 0% off-road, (117 non-player agents in the scene)time_diff: 0.400000, yaw: 1.358688, yaw_old: 2.043854, yaw_rate: 1.712914\n",
      "Vehicle at (199.9, -2.1), 24 km/h, Collision: {vehicles=0, pedestrians=0, other=0}, 0% other lane, 0% off-road, (117 non-player agents in the scene)time_diff: 0.400000, yaw: 359.798401, yaw_old: 1.358688, yaw_rate: 3.900719\n",
      "Vehicle at (199.3, -2.0), 23 km/h, Collision: {vehicles=0, pedestrians=0, other=0}, 0% other lane, 0% off-road, (117 non-player agents in the scene)time_diff: 0.400000, yaw: 358.844345, yaw_old: 359.798401, yaw_rate: 2.385139\n",
      "Vehicle at (198.6, -2.0), 23 km/h, Collision: {vehicles=0, pedestrians=0, other=0}, 0% other lane, 0% off-road, (117 non-player agents in the scene)time_diff: 0.400000, yaw: 358.506805, yaw_old: 358.844345, yaw_rate: 0.843849\n",
      "Vehicle at (198.0, -2.0), 22 km/h, Collision: {vehicles=0, pedestrians=0, other=0}, 0% other lane, 0% off-road, (117 non-player agents in the scene)time_diff: 0.400000, yaw: 358.431473, yaw_old: 358.506805, yaw_rate: 0.188332\n"
     ]
    },
    {
     "name": "stdout",
     "output_type": "stream",
     "text": [
      "Vehicle at (197.4, -2.0), 22 km/h, Collision: {vehicles=0, pedestrians=0, other=0}, 0% other lane, 0% off-road, (117 non-player agents in the scene)time_diff: 0.400000, yaw: 358.884659, yaw_old: 358.431473, yaw_rate: 1.132965\n",
      "Vehicle at (196.8, -2.0), 21 km/h, Collision: {vehicles=0, pedestrians=0, other=0}, 0% other lane, 0% off-road, (117 non-player agents in the scene)time_diff: 0.400000, yaw: 358.446823, yaw_old: 358.884659, yaw_rate: 1.094589\n"
     ]
    }
   ],
   "source": [
    "run gather_data.py --autopilot --images-to-disk --lidar"
   ]
  },
  {
   "cell_type": "code",
   "execution_count": null,
   "metadata": {},
   "outputs": [],
   "source": []
  }
 ],
 "metadata": {
  "kernelspec": {
   "display_name": "Python 3",
   "language": "python",
   "name": "python3"
  },
  "language_info": {
   "codemirror_mode": {
    "name": "ipython",
    "version": 3
   },
   "file_extension": ".py",
   "mimetype": "text/x-python",
   "name": "python",
   "nbconvert_exporter": "python",
   "pygments_lexer": "ipython3",
   "version": "3.6.5"
  }
 },
 "nbformat": 4,
 "nbformat_minor": 2
}
